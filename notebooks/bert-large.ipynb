{
 "cells": [
  {
   "cell_type": "code",
   "execution_count": null,
   "id": "694495f3-e499-4e01-beee-c60f00fbce2f",
   "metadata": {},
   "outputs": [],
   "source": [
    "# Full classification example\n",
    "# https://huggingface.co/ruanchaves/bert-large-portuguese-cased-hatebr\n",
    "\n",
    "# from transformers import AutoModelForSequenceClassification, AutoTokenizer, AutoConfig\n",
    "# import numpy as np\n",
    "# import torch\n",
    "# from scipy.special import softmax\n",
    "\n",
    "# model_name = \"ruanchaves/bert-large-portuguese-cased-hatebr\"\n",
    "# s1 = \"Quem não deve não teme!!\"\n",
    "# model = AutoModelForSequenceClassification.from_pretrained(model_name)\n",
    "# tokenizer = AutoTokenizer.from_pretrained(model_name)\n",
    "# config = AutoConfig.from_pretrained(model_name)\n",
    "# model_input = tokenizer(*([s1],), padding=True, return_tensors=\"pt\")\n",
    "# with torch.no_grad():\n",
    "#     output = model(**model_input)\n",
    "#     scores = output[0][0].detach().numpy()\n",
    "#     scores = softmax(scores)\n",
    "#     ranking = np.argsort(scores)\n",
    "#     ranking = ranking[::-1]\n",
    "#     for i in range(scores.shape[0]):\n",
    "#         l = config.id2label[ranking[i]]\n",
    "#         s = scores[ranking[i]]\n",
    "#         print(f\"{i+1}) Label: {l} Score: {np.round(float(s), 4)}\")\n"
   ]
  },
  {
   "cell_type": "code",
   "execution_count": 11,
   "id": "30585efa-c215-4a17-9371-69f442e00b49",
   "metadata": {
    "tags": []
   },
   "outputs": [],
   "source": [
    "from transformers import AutoModelForSequenceClassification, AutoTokenizer, AutoConfig\n",
    "import numpy as np\n",
    "import torch\n",
    "from scipy.special import softmax\n",
    "\n",
    "model_name = \"ruanchaves/bert-large-portuguese-cased-hatebr\"\n",
    "model = AutoModelForSequenceClassification.from_pretrained(model_name)\n",
    "config = AutoConfig.from_pretrained(model_name)\n",
    "\n",
    "tokenizer = AutoTokenizer.from_pretrained(model_name)"
   ]
  },
  {
   "cell_type": "code",
   "execution_count": null,
   "id": "4fab5664-59c4-42dc-9b5c-e7c01084e9f7",
   "metadata": {},
   "outputs": [],
   "source": []
  },
  {
   "cell_type": "code",
   "execution_count": 41,
   "id": "3286a68b-1415-4454-aa77-d6348f765590",
   "metadata": {
    "tags": []
   },
   "outputs": [
    {
     "name": "stdout",
     "output_type": "stream",
     "text": [
      "SequenceClassifierOutput(loss=None, logits=tensor([[ 5.4566, -6.0175],\n",
      "        [-5.6428,  6.1183],\n",
      "        [-5.7193,  6.1025],\n",
      "        [-5.7092,  6.1302],\n",
      "        [-5.7136,  6.1062]]), hidden_states=None, attentions=None)\n",
      "\n",
      "\n",
      " tensor([ 5.4566, -6.0175])\n",
      "[9.9998963e-01 1.0395761e-05]\n",
      "1) Label: False Score: 1.0\n",
      "2) Label: True Score: 0.0\n",
      "\n",
      "\n",
      " tensor([-5.6428,  6.1183])\n",
      "[7.8026478e-06 9.9999225e-01]\n",
      "1) Label: False Score: 0.0\n",
      "2) Label: True Score: 1.0\n",
      "\n",
      "\n",
      " tensor([-5.7193,  6.1025])\n",
      "[7.3426663e-06 9.9999261e-01]\n",
      "1) Label: False Score: 0.0\n",
      "2) Label: True Score: 1.0\n",
      "\n",
      "\n",
      " tensor([-5.7092,  6.1302])\n",
      "[7.2142425e-06 9.9999273e-01]\n",
      "1) Label: False Score: 0.0\n",
      "2) Label: True Score: 1.0\n",
      "\n",
      "\n",
      " tensor([-5.7136,  6.1062])\n",
      "[7.357301e-06 9.999926e-01]\n",
      "1) Label: False Score: 0.0\n",
      "2) Label: True Score: 1.0\n"
     ]
    }
   ],
   "source": [
    "s1 = \"Quem não deve não teme!!\"\n",
    "\n",
    "sequences = [\n",
    "    s1,\n",
    "    \"esquerdista do caralho!\",\n",
    "    \"bolsonaro genocida!\",\n",
    "    \"vadia burra\",\n",
    "    \"viadinho\"\n",
    "]\n",
    "\n",
    "model_input = tokenizer(*(sequences,), padding=True, return_tensors=\"pt\")\n",
    "with torch.no_grad():\n",
    "    outputs = model(**model_input)\n",
    "    print(outputs)\n",
    "    for logit in outputs.logits:\n",
    "        print('\\n\\n', logit)\n",
    "        scores = logit.detach().numpy()\n",
    "        scores = softmax(scores)\n",
    "        print(scores)\n",
    "        # ranking = np.argsort(scores)\n",
    "        # ranking = ranking[::-1]  # inverte o ranking\n",
    "        for i in range(scores.shape[0]):\n",
    "            l = config.id2label[i]\n",
    "            s = scores[i]\n",
    "            print(f\"{i+1}) Label: {l} Score: {np.round(float(s), 4)}\")"
   ]
  },
  {
   "cell_type": "code",
   "execution_count": 29,
   "id": "acba76c5-e514-4f40-95ee-1b981dc07094",
   "metadata": {
    "tags": []
   },
   "outputs": [
    {
     "data": {
      "text/plain": [
       "tensor([[ 5.4566, -6.0175],\n",
       "        [-5.6428,  6.1183],\n",
       "        [-5.7193,  6.1025],\n",
       "        [-5.7092,  6.1302],\n",
       "        [-5.7136,  6.1062]])"
      ]
     },
     "execution_count": 29,
     "metadata": {},
     "output_type": "execute_result"
    }
   ],
   "source": [
    "outputs.logits"
   ]
  },
  {
   "cell_type": "code",
   "execution_count": 35,
   "id": "e9ca40d3-e39b-4175-b700-b35a9a1ba2f9",
   "metadata": {
    "tags": []
   },
   "outputs": [
    {
     "data": {
      "text/plain": [
       "{'loss': None,\n",
       " 'logits': tensor([[ 5.4566, -6.0175],\n",
       "         [-5.6428,  6.1183],\n",
       "         [-5.7193,  6.1025],\n",
       "         [-5.7092,  6.1302],\n",
       "         [-5.7136,  6.1062]]),\n",
       " 'hidden_states': None,\n",
       " 'attentions': None}"
      ]
     },
     "execution_count": 35,
     "metadata": {},
     "output_type": "execute_result"
    }
   ],
   "source": [
    "outputs.__dict__"
   ]
  },
  {
   "cell_type": "code",
   "execution_count": 10,
   "id": "5d673cf4-e371-4e98-9408-7385f60bf496",
   "metadata": {
    "tags": []
   },
   "outputs": [
    {
     "name": "stdout",
     "output_type": "stream",
     "text": [
      "{'input_ids': tensor([[  101, 15807,   346,  1981,   346,   376, 22279,   106,   106,   102]]), 'token_type_ids': tensor([[0, 0, 0, 0, 0, 0, 0, 0, 0, 0]]), 'attention_mask': tensor([[1, 1, 1, 1, 1, 1, 1, 1, 1, 1]])}\n"
     ]
    }
   ],
   "source": [
    "\n",
    "tokens = tokenizer(*([s1],), padding=True, return_tensors=\"pt\")\n",
    "print(tokens)"
   ]
  }
 ],
 "metadata": {
  "kernelspec": {
   "display_name": "Python 3 (ipykernel)",
   "language": "python",
   "name": "python3"
  },
  "language_info": {
   "codemirror_mode": {
    "name": "ipython",
    "version": 3
   },
   "file_extension": ".py",
   "mimetype": "text/x-python",
   "name": "python",
   "nbconvert_exporter": "python",
   "pygments_lexer": "ipython3",
   "version": "3.8.13"
  }
 },
 "nbformat": 4,
 "nbformat_minor": 5
}
